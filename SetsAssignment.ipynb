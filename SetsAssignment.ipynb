{
 "cells": [
  {
   "cell_type": "markdown",
   "id": "13d6c794-bd5f-436e-9aa4-0fb402bcdb0d",
   "metadata": {},
   "source": [
    "Sets Assignment........................"
   ]
  },
  {
   "cell_type": "markdown",
   "id": "d45d305e-e161-4bb8-8250-4f9c049e6494",
   "metadata": {},
   "source": [
    "Q:1) What is a set in python?"
   ]
  },
  {
   "cell_type": "markdown",
   "id": "67fa0c96-d255-45dc-9a6d-3ccfb87bdec8",
   "metadata": {},
   "source": [
    "Ans:)  A set is an unordered, mutable collection of unique elements. It is defined using curly braces {} and can contain various data types such as numbers, strings, and other objects. Sets are similar to lists and dictionaries, but unlike lists, they do not allow duplicate values, and unlike dictionaries, they do not have key-value pairs."
   ]
  },
  {
   "cell_type": "markdown",
   "id": "0c98d593-b65c-4bda-904c-bb3c61f736c9",
   "metadata": {},
   "source": [
    "Q:2) How do you create a set in python?"
   ]
  },
  {
   "cell_type": "code",
   "execution_count": 1,
   "id": "470886db-f492-4cb1-8b45-4d078f77ca44",
   "metadata": {},
   "outputs": [],
   "source": [
    "# To create a set in python...........\n",
    "set={1,2,3,3,3,}"
   ]
  },
  {
   "cell_type": "code",
   "execution_count": 2,
   "id": "e675db43-ce42-414f-a7ba-bf03c4fcdb17",
   "metadata": {},
   "outputs": [
    {
     "data": {
      "text/plain": [
       "set"
      ]
     },
     "execution_count": 2,
     "metadata": {},
     "output_type": "execute_result"
    }
   ],
   "source": [
    "type(set)"
   ]
  },
  {
   "cell_type": "code",
   "execution_count": 3,
   "id": "7c10d088-c21e-4f2e-a5c4-18baa37513af",
   "metadata": {},
   "outputs": [
    {
     "data": {
      "text/plain": [
       "{1, 2, 3}"
      ]
     },
     "execution_count": 3,
     "metadata": {},
     "output_type": "execute_result"
    }
   ],
   "source": [
    "set"
   ]
  },
  {
   "cell_type": "markdown",
   "id": "8fdeb5f8-a14c-4bd5-bf16-230c579d196f",
   "metadata": {},
   "source": [
    "Q:3) How do you add an elements to a set in python?"
   ]
  },
  {
   "cell_type": "code",
   "execution_count": 4,
   "id": "46e3cb45-73d9-41a5-b997-838e94d24285",
   "metadata": {},
   "outputs": [],
   "source": [
    "# To add an element to a set in python ...........\n",
    "set.add('Rohit')"
   ]
  },
  {
   "cell_type": "code",
   "execution_count": 5,
   "id": "a4b0fa8d-5f25-4b10-81a0-d51fad6275e1",
   "metadata": {},
   "outputs": [
    {
     "data": {
      "text/plain": [
       "{1, 2, 3, 'Rohit'}"
      ]
     },
     "execution_count": 5,
     "metadata": {},
     "output_type": "execute_result"
    }
   ],
   "source": [
    "set"
   ]
  },
  {
   "cell_type": "markdown",
   "id": "7b89ba93-ad9a-49d2-a11b-086f7df6c22d",
   "metadata": {},
   "source": [
    "An element will be added."
   ]
  },
  {
   "cell_type": "markdown",
   "id": "93fbd156-ea3c-4401-a607-158fc93948f2",
   "metadata": {},
   "source": [
    "Q:4) How do you remove an element from a set in python?"
   ]
  },
  {
   "cell_type": "code",
   "execution_count": 6,
   "id": "3304764c-dd62-47eb-a2ed-0657c1cf8560",
   "metadata": {},
   "outputs": [],
   "source": [
    "# To remove an element from a set ...............\n",
    "set.remove('Rohit')"
   ]
  },
  {
   "cell_type": "code",
   "execution_count": 7,
   "id": "745f512e-427f-42dd-ae05-81a78b9912da",
   "metadata": {},
   "outputs": [
    {
     "data": {
      "text/plain": [
       "{1, 2, 3}"
      ]
     },
     "execution_count": 7,
     "metadata": {},
     "output_type": "execute_result"
    }
   ],
   "source": [
    "set"
   ]
  },
  {
   "cell_type": "markdown",
   "id": "ebce4283-e277-4bed-b8cb-ccd97d9504f0",
   "metadata": {},
   "source": [
    "Q:5) How do you get the length of a set in python?"
   ]
  },
  {
   "cell_type": "code",
   "execution_count": 9,
   "id": "7e750422-bcb0-49dc-aa8d-b230e9267ea5",
   "metadata": {},
   "outputs": [
    {
     "ename": "NameError",
     "evalue": "name 'length' is not defined",
     "output_type": "error",
     "traceback": [
      "\u001b[0;31m---------------------------------------------------------------------------\u001b[0m",
      "\u001b[0;31mNameError\u001b[0m                                 Traceback (most recent call last)",
      "Cell \u001b[0;32mIn[9], line 1\u001b[0m\n\u001b[0;32m----> 1\u001b[0m \u001b[43mlength\u001b[49m(\u001b[38;5;28mset\u001b[39m)\n",
      "\u001b[0;31mNameError\u001b[0m: name 'length' is not defined"
     ]
    }
   ],
   "source": [
    "length(set)"
   ]
  },
  {
   "cell_type": "code",
   "execution_count": null,
   "id": "76697443-2158-4065-a70f-3249f24391bc",
   "metadata": {},
   "outputs": [],
   "source": []
  }
 ],
 "metadata": {
  "kernelspec": {
   "display_name": "Python 3 (ipykernel)",
   "language": "python",
   "name": "python3"
  },
  "language_info": {
   "codemirror_mode": {
    "name": "ipython",
    "version": 3
   },
   "file_extension": ".py",
   "mimetype": "text/x-python",
   "name": "python",
   "nbconvert_exporter": "python",
   "pygments_lexer": "ipython3",
   "version": "3.10.8"
  }
 },
 "nbformat": 4,
 "nbformat_minor": 5
}
