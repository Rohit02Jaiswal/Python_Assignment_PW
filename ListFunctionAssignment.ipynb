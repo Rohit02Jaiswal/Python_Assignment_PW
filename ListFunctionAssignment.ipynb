{
 "cells": [
  {
   "cell_type": "markdown",
   "id": "128f177e-90eb-4a1f-9c81-e79ce433e516",
   "metadata": {},
   "source": [
    "Q:1) What is the syntax for adding an element to a list in python?"
   ]
  },
  {
   "cell_type": "code",
   "execution_count": 1,
   "id": "944f3fca-af57-48c8-bc13-876c44c063f3",
   "metadata": {},
   "outputs": [],
   "source": [
    "list=[1,3,5,'Rohit']"
   ]
  },
  {
   "cell_type": "code",
   "execution_count": 2,
   "id": "79ab2894-1c88-4416-a2a6-033008b3c480",
   "metadata": {},
   "outputs": [
    {
     "data": {
      "text/plain": [
       "[1, 3, 5, 'Rohit']"
      ]
     },
     "execution_count": 2,
     "metadata": {},
     "output_type": "execute_result"
    }
   ],
   "source": [
    "list"
   ]
  },
  {
   "cell_type": "code",
   "execution_count": 6,
   "id": "1dad1fc6-9da0-4fff-8d3b-f1f462ace5f6",
   "metadata": {},
   "outputs": [],
   "source": [
    "list.append('Jaiswal') # use append() function ."
   ]
  },
  {
   "cell_type": "code",
   "execution_count": 5,
   "id": "aa5675f6-2c95-4753-ba92-88fee4efce5b",
   "metadata": {},
   "outputs": [
    {
     "data": {
      "text/plain": [
       "[1, 3, 5, 'Rohit', 'Jaiswal']"
      ]
     },
     "execution_count": 5,
     "metadata": {},
     "output_type": "execute_result"
    }
   ],
   "source": [
    "list"
   ]
  },
  {
   "cell_type": "markdown",
   "id": "e366a533-1438-4df3-a4cd-a103ae4af8ea",
   "metadata": {},
   "source": [
    "Q:2) What is the difference between remove() and pop() functions in python?"
   ]
  },
  {
   "cell_type": "markdown",
   "id": "1991e3ba-df5e-4dde-99c6-1fce1aba6b50",
   "metadata": {},
   "source": [
    "Ans:) remove() is a method that is used to remove the first occurence of a specified element from a list."
   ]
  },
  {
   "cell_type": "code",
   "execution_count": 7,
   "id": "7b2ccd2b-b9a4-498e-8510-dded700307e9",
   "metadata": {},
   "outputs": [],
   "source": [
    "l1=[1,2,3,4,3,4]"
   ]
  },
  {
   "cell_type": "code",
   "execution_count": 8,
   "id": "f4996d68-5399-4a09-924f-6237d893821b",
   "metadata": {},
   "outputs": [
    {
     "data": {
      "text/plain": [
       "[1, 2, 3, 4, 3, 4]"
      ]
     },
     "execution_count": 8,
     "metadata": {},
     "output_type": "execute_result"
    }
   ],
   "source": [
    "l1"
   ]
  },
  {
   "cell_type": "code",
   "execution_count": 9,
   "id": "8bb7459f-6fa9-467a-8419-98d28c69b7cd",
   "metadata": {},
   "outputs": [],
   "source": [
    "l1.remove(3)"
   ]
  },
  {
   "cell_type": "code",
   "execution_count": 10,
   "id": "14725b03-cdb2-4f84-92e1-ca8ef5edd151",
   "metadata": {},
   "outputs": [
    {
     "data": {
      "text/plain": [
       "[1, 2, 4, 3, 4]"
      ]
     },
     "execution_count": 10,
     "metadata": {},
     "output_type": "execute_result"
    }
   ],
   "source": [
    "l1 # it will just ermove the first occurence of 3."
   ]
  },
  {
   "cell_type": "markdown",
   "id": "e53766ee-7769-4ab3-b4ec-b6c74f9ab90b",
   "metadata": {},
   "source": [
    "pop() is a method that is used to remove and return an element from a list based on its index. "
   ]
  },
  {
   "cell_type": "code",
   "execution_count": 11,
   "id": "a11a5e9d-1373-4299-bdbd-c0155bc0a6e2",
   "metadata": {},
   "outputs": [
    {
     "data": {
      "text/plain": [
       "[1, 2, 4, 3, 4]"
      ]
     },
     "execution_count": 11,
     "metadata": {},
     "output_type": "execute_result"
    }
   ],
   "source": [
    "l1"
   ]
  },
  {
   "cell_type": "code",
   "execution_count": 12,
   "id": "715278f6-8514-4b7c-a0e6-26031fadd9f5",
   "metadata": {},
   "outputs": [
    {
     "data": {
      "text/plain": [
       "4"
      ]
     },
     "execution_count": 12,
     "metadata": {},
     "output_type": "execute_result"
    }
   ],
   "source": [
    "l1.pop(2) # here value of index 2 is deleted as see in output"
   ]
  },
  {
   "cell_type": "code",
   "execution_count": 13,
   "id": "3b536aeb-8d10-43b4-8ce6-ad0ed4bc70cd",
   "metadata": {},
   "outputs": [
    {
     "data": {
      "text/plain": [
       "[1, 2, 3, 4]"
      ]
     },
     "execution_count": 13,
     "metadata": {},
     "output_type": "execute_result"
    }
   ],
   "source": [
    "l1"
   ]
  },
  {
   "cell_type": "markdown",
   "id": "699718a9-6131-496d-bdeb-617812c14f3c",
   "metadata": {},
   "source": [
    "Q:3) Write a python code to sort a list in descending order."
   ]
  },
  {
   "cell_type": "code",
   "execution_count": 14,
   "id": "ae91ccbb-e910-4ddf-87ed-7913f27baba8",
   "metadata": {},
   "outputs": [],
   "source": [
    "l2=[7,4,8,3,5,0,1]"
   ]
  },
  {
   "cell_type": "code",
   "execution_count": 15,
   "id": "bf376ec1-4c31-4f53-9f32-c9cd2b8e02d2",
   "metadata": {},
   "outputs": [
    {
     "data": {
      "text/plain": [
       "[7, 4, 8, 3, 5, 0, 1]"
      ]
     },
     "execution_count": 15,
     "metadata": {},
     "output_type": "execute_result"
    }
   ],
   "source": [
    "l2"
   ]
  },
  {
   "cell_type": "code",
   "execution_count": 18,
   "id": "2c16ade8-28d1-47f2-9be2-34c9cfa415f6",
   "metadata": {},
   "outputs": [],
   "source": [
    "l2.sort(reverse=True)"
   ]
  },
  {
   "cell_type": "code",
   "execution_count": 19,
   "id": "ab10d1f4-f160-4e9f-8e7d-cae9251896ae",
   "metadata": {},
   "outputs": [
    {
     "data": {
      "text/plain": [
       "[8, 7, 5, 4, 3, 1, 0]"
      ]
     },
     "execution_count": 19,
     "metadata": {},
     "output_type": "execute_result"
    }
   ],
   "source": [
    "l2"
   ]
  },
  {
   "cell_type": "markdown",
   "id": "df858040-f6c5-49c3-96e7-f50e85931639",
   "metadata": {},
   "source": [
    "Q:4) Write a python code to count the number of occurences of an element in a list."
   ]
  },
  {
   "cell_type": "code",
   "execution_count": 21,
   "id": "e94a2687-cd0c-4db9-97ca-4f11dac22d99",
   "metadata": {},
   "outputs": [
    {
     "data": {
      "text/plain": [
       "1"
      ]
     },
     "execution_count": 21,
     "metadata": {},
     "output_type": "execute_result"
    }
   ],
   "source": [
    "l2.count(0)"
   ]
  },
  {
   "cell_type": "markdown",
   "id": "6b8be0f5-c4a4-4c88-a2e9-c9b9eb21a5fa",
   "metadata": {},
   "source": [
    "Q:5) Write a python code to reverse a list."
   ]
  },
  {
   "cell_type": "code",
   "execution_count": 22,
   "id": "3d2dae08-dc6b-47f4-9a76-6b5ada4af715",
   "metadata": {},
   "outputs": [],
   "source": [
    "l3=['Rohit', 'Jaiswal', 2002, 8]"
   ]
  },
  {
   "cell_type": "code",
   "execution_count": 23,
   "id": "f23bb291-39d8-4ad6-bf55-c17a2b349735",
   "metadata": {},
   "outputs": [
    {
     "data": {
      "text/plain": [
       "['Rohit', 'Jaiswal', 2002, 8]"
      ]
     },
     "execution_count": 23,
     "metadata": {},
     "output_type": "execute_result"
    }
   ],
   "source": [
    "l3"
   ]
  },
  {
   "cell_type": "code",
   "execution_count": 24,
   "id": "86bfb6cc-d226-4eba-a1b8-626aee53134e",
   "metadata": {},
   "outputs": [],
   "source": [
    "l3.reverse()"
   ]
  },
  {
   "cell_type": "code",
   "execution_count": 25,
   "id": "247a28fc-73d5-4fec-8971-50dd2d523a12",
   "metadata": {},
   "outputs": [
    {
     "data": {
      "text/plain": [
       "[8, 2002, 'Jaiswal', 'Rohit']"
      ]
     },
     "execution_count": 25,
     "metadata": {},
     "output_type": "execute_result"
    }
   ],
   "source": [
    "l3"
   ]
  },
  {
   "cell_type": "code",
   "execution_count": null,
   "id": "59841125-43ba-49a0-8397-46a3d7bde0c3",
   "metadata": {},
   "outputs": [],
   "source": []
  }
 ],
 "metadata": {
  "kernelspec": {
   "display_name": "Python 3 (ipykernel)",
   "language": "python",
   "name": "python3"
  },
  "language_info": {
   "codemirror_mode": {
    "name": "ipython",
    "version": 3
   },
   "file_extension": ".py",
   "mimetype": "text/x-python",
   "name": "python",
   "nbconvert_exporter": "python",
   "pygments_lexer": "ipython3",
   "version": "3.10.8"
  }
 },
 "nbformat": 4,
 "nbformat_minor": 5
}
