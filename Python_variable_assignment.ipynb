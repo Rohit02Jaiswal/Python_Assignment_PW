{
 "cells": [
  {
   "cell_type": "raw",
   "id": "215c7bdb-5259-44a9-829e-67df6a2eb117",
   "metadata": {},
   "source": [
    "Q.1) Write all the conventions being followed while declaring a variable."
   ]
  },
  {
   "cell_type": "raw",
   "id": "12e293c2-fc99-4301-a363-bbfd370610d4",
   "metadata": {},
   "source": [
    "Ans:) A variable name can't start with number.\n",
    "      A variable name always start with letter either capital or small.\n",
    "      A variable contains letter, number, underscore( _ ).\n",
    "      Variable names are case sensitive (ex: rohit, Rohit both are different variables).\n",
    "      "
   ]
  },
  {
   "cell_type": "raw",
   "id": "7a889465-5ac8-4c1f-aa3b-b1fd7627e185",
   "metadata": {},
   "source": [
    "Q.2) What will happen if we declare a restricted keyword as a variable?"
   ]
  },
  {
   "cell_type": "raw",
   "id": "e18619ba-89fd-4d39-825d-72fcc3b5a32e",
   "metadata": {},
   "source": [
    "Ans:) We can't use reserved keyword as a variable because it is already reserved for specific task.\n",
    "      It will gives Syntax Error. See the below example."
   ]
  },
  {
   "cell_type": "code",
   "execution_count": 2,
   "id": "fa4490be-bb29-42be-8a5c-8bd6c94f326f",
   "metadata": {},
   "outputs": [
    {
     "ename": "SyntaxError",
     "evalue": "invalid syntax (2105253958.py, line 1)",
     "output_type": "error",
     "traceback": [
      "\u001b[0;36m  Cell \u001b[0;32mIn[2], line 1\u001b[0;36m\u001b[0m\n\u001b[0;31m    continue=2\u001b[0m\n\u001b[0m            ^\u001b[0m\n\u001b[0;31mSyntaxError\u001b[0m\u001b[0;31m:\u001b[0m invalid syntax\n"
     ]
    }
   ],
   "source": [
    "continue=2\n",
    "print(continue)"
   ]
  },
  {
   "cell_type": "raw",
   "id": "7b264253-8ef4-4b3a-9c5b-978c652615aa",
   "metadata": {},
   "source": [
    "Q.3) Can we actually declare a string as a variable name?"
   ]
  },
  {
   "cell_type": "raw",
   "id": "8bef00a1-1e82-4024-85a0-646122d36b83",
   "metadata": {},
   "source": [
    "Ans:) Yes we can declare a string as a variable name in Python using the exec() method."
   ]
  },
  {
   "cell_type": "raw",
   "id": "5d9e3316-aff1-43de-9982-7ffe64bf5a65",
   "metadata": {},
   "source": [
    "Q.4) Is it possible for us to declare “_” as a variable? If so, then write an example of it."
   ]
  },
  {
   "cell_type": "raw",
   "id": "970e3b5e-6a93-4b66-a9a8-53840fae46b3",
   "metadata": {},
   "source": [
    "Ans:) Yes we can declare \"_\" underscore as a variable. See the below example ...."
   ]
  },
  {
   "cell_type": "code",
   "execution_count": 7,
   "id": "32a4e7cd-0516-43d9-801c-4754c4b78f39",
   "metadata": {},
   "outputs": [
    {
     "name": "stdout",
     "output_type": "stream",
     "text": [
      "35\n"
     ]
    }
   ],
   "source": [
    "_rohit=35     # it will return 35 \n",
    "print(rohit)"
   ]
  },
  {
   "cell_type": "raw",
   "id": "d57ce544-fad9-4534-9190-e66b95be46eb",
   "metadata": {},
   "source": [
    "Q.5) Using an example, explain how the variables in python are dynamic in nature."
   ]
  },
  {
   "cell_type": "raw",
   "id": "50192c3d-dd6d-490f-84b5-0ca678da4565",
   "metadata": {},
   "source": [
    "Ans:) Python is a dynamically typed language. It does not know about the type of the variables untill the code is         run. For better understanding see the below example"
   ]
  },
  {
   "cell_type": "code",
   "execution_count": 10,
   "id": "a5b1f321-1a81-488f-a473-e2b925e77f11",
   "metadata": {},
   "outputs": [
    {
     "data": {
      "text/plain": [
       "int"
      ]
     },
     "execution_count": 10,
     "metadata": {},
     "output_type": "execute_result"
    }
   ],
   "source": [
    "rohit=21\n",
    "type(rohit) # Here it will return integer without declaration of any datatype like c++ and java."
   ]
  },
  {
   "cell_type": "code",
   "execution_count": null,
   "id": "aee25408-9b13-4f26-a1eb-f6d2f0a8d751",
   "metadata": {},
   "outputs": [],
   "source": []
  }
 ],
 "metadata": {
  "kernelspec": {
   "display_name": "Python 3 (ipykernel)",
   "language": "python",
   "name": "python3"
  },
  "language_info": {
   "codemirror_mode": {
    "name": "ipython",
    "version": 3
   },
   "file_extension": ".py",
   "mimetype": "text/x-python",
   "name": "python",
   "nbconvert_exporter": "python",
   "pygments_lexer": "ipython3",
   "version": "3.10.8"
  }
 },
 "nbformat": 4,
 "nbformat_minor": 5
}
