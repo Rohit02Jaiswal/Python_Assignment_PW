{
 "cells": [
  {
   "cell_type": "markdown",
   "id": "4769cdb3-d6d1-4e54-8604-057794d8e7b6",
   "metadata": {},
   "source": [
    "Q:1) What is a tuple in python?"
   ]
  },
  {
   "cell_type": "markdown",
   "id": "6caeb5f5-6225-43c8-9bf2-8eef7817b8d3",
   "metadata": {},
   "source": [
    "Ans:) A tuple in Python is an immutable collection of ordered elements, and it is commonly used for representing fixed collections of values where immutability and order are important."
   ]
  },
  {
   "cell_type": "code",
   "execution_count": 1,
   "id": "12e7866f-220c-414e-b68c-76b194df2a4b",
   "metadata": {},
   "outputs": [],
   "source": [
    "#Example.......\n",
    "tuple=(2,5,4,2,8,0)"
   ]
  },
  {
   "cell_type": "code",
   "execution_count": 2,
   "id": "3100204c-e0b8-4121-a08e-2ee8fd08f61b",
   "metadata": {},
   "outputs": [
    {
     "data": {
      "text/plain": [
       "(2, 5, 4, 2, 8, 0)"
      ]
     },
     "execution_count": 2,
     "metadata": {},
     "output_type": "execute_result"
    }
   ],
   "source": [
    "tuple"
   ]
  },
  {
   "cell_type": "markdown",
   "id": "4698537a-bb88-4648-b600-ded620589e2d",
   "metadata": {},
   "source": [
    "Q:2) How do you create a tuple in python?"
   ]
  },
  {
   "cell_type": "code",
   "execution_count": 3,
   "id": "afd21078-8d73-4904-be8c-8e82236b4c5a",
   "metadata": {},
   "outputs": [],
   "source": [
    "create_tuple=(\"Rohit\", \"Jaiswal\", 2002, 24)"
   ]
  },
  {
   "cell_type": "code",
   "execution_count": 4,
   "id": "f9e9e67f-f879-4bf0-95a1-7c483d7cfcc4",
   "metadata": {},
   "outputs": [
    {
     "data": {
      "text/plain": [
       "('Rohit', 'Jaiswal', 2002, 24)"
      ]
     },
     "execution_count": 4,
     "metadata": {},
     "output_type": "execute_result"
    }
   ],
   "source": [
    "create_tuple"
   ]
  },
  {
   "cell_type": "markdown",
   "id": "2fe1edd9-5c48-4bf3-ad0d-cf2c7b0bf769",
   "metadata": {},
   "source": [
    "Our very first tuple is created......."
   ]
  },
  {
   "cell_type": "markdown",
   "id": "5766194b-6a59-4883-a1df-4400672411f3",
   "metadata": {},
   "source": [
    "Q:3) What is the difference between a tuple and  a list in python?"
   ]
  },
  {
   "cell_type": "markdown",
   "id": "2fba4980-638f-4963-9941-3b47b2baec36",
   "metadata": {},
   "source": [
    "Ans:) The main differences between tuples and lists in Python are their mutability, syntax, performance, use cases, and available methods. Tuples are immutable, more memory-efficient, and used for fixed collections of elements, while lists are mutable, more flexible, and used for dynamic collections of elements."
   ]
  },
  {
   "cell_type": "markdown",
   "id": "cf0dac7b-8c51-410d-9b60-fb36e4080a1e",
   "metadata": {},
   "source": [
    "Q:4) Can a tuple be changed in python?"
   ]
  },
  {
   "cell_type": "markdown",
   "id": "bc51de3a-3915-48a4-b352-7ce08fa918ef",
   "metadata": {},
   "source": [
    "Ana:) No, a tuple in Python is immutable, meaning its elements cannot be changed after it is created. Once a tuple is created, its elements are fixed and cannot be modified, added, or removed. Attempting to modify a tuple will result in a TypeError."
   ]
  },
  {
   "cell_type": "code",
   "execution_count": 5,
   "id": "04d2a06a-75cd-40dc-b629-f78d1171552e",
   "metadata": {},
   "outputs": [],
   "source": [
    "# example.............\n",
    "t1=(1,2,3,4,5,5,6,7)"
   ]
  },
  {
   "cell_type": "code",
   "execution_count": 6,
   "id": "da8d80d2-9a08-4871-80c2-1f341491536e",
   "metadata": {},
   "outputs": [
    {
     "data": {
      "text/plain": [
       "(1, 2, 3, 4, 5, 5, 6, 7)"
      ]
     },
     "execution_count": 6,
     "metadata": {},
     "output_type": "execute_result"
    }
   ],
   "source": [
    "t1"
   ]
  },
  {
   "cell_type": "code",
   "execution_count": 7,
   "id": "c28aea5f-2262-483e-b91c-530d5a9d2da9",
   "metadata": {},
   "outputs": [
    {
     "ename": "TypeError",
     "evalue": "'tuple' object does not support item assignment",
     "output_type": "error",
     "traceback": [
      "\u001b[0;31m---------------------------------------------------------------------------\u001b[0m",
      "\u001b[0;31mTypeError\u001b[0m                                 Traceback (most recent call last)",
      "Cell \u001b[0;32mIn[7], line 1\u001b[0m\n\u001b[0;32m----> 1\u001b[0m \u001b[43mt1\u001b[49m\u001b[43m[\u001b[49m\u001b[38;5;241;43m0\u001b[39;49m\u001b[43m]\u001b[49m\u001b[38;5;241m=\u001b[39m\u001b[38;5;241m4\u001b[39m\n",
      "\u001b[0;31mTypeError\u001b[0m: 'tuple' object does not support item assignment"
     ]
    }
   ],
   "source": [
    "t1[0]=4"
   ]
  },
  {
   "cell_type": "markdown",
   "id": "797c7c68-8b57-4b50-8c25-697d817fe60a",
   "metadata": {},
   "source": [
    "Q:5) How do you access element in tuple?"
   ]
  },
  {
   "cell_type": "code",
   "execution_count": 8,
   "id": "2b438406-c7f7-461b-9b89-6d1b28f8997c",
   "metadata": {},
   "outputs": [
    {
     "data": {
      "text/plain": [
       "1"
      ]
     },
     "execution_count": 8,
     "metadata": {},
     "output_type": "execute_result"
    }
   ],
   "source": [
    "t1[0]"
   ]
  },
  {
   "cell_type": "code",
   "execution_count": 9,
   "id": "cdab2fd4-a650-4609-9a2a-80574eceb77d",
   "metadata": {},
   "outputs": [
    {
     "data": {
      "text/plain": [
       "5"
      ]
     },
     "execution_count": 9,
     "metadata": {},
     "output_type": "execute_result"
    }
   ],
   "source": [
    "t1[4]"
   ]
  },
  {
   "cell_type": "markdown",
   "id": "9e78d779-bbdb-471a-bf16-5f4766ec09c3",
   "metadata": {},
   "source": [
    "Ans:) We can access element in tuple by using its index."
   ]
  },
  {
   "cell_type": "markdown",
   "id": "1d32a9fc-c2b3-4091-bcd1-c86a6096f993",
   "metadata": {},
   "source": [
    "Q:6) How do you unpack a tuple in python?"
   ]
  },
  {
   "cell_type": "markdown",
   "id": "18d31fa7-10e1-4c38-baec-bd53e9a759a1",
   "metadata": {},
   "source": [
    "Ans:) In Python, we can unpack a tuple using a process called \"tuple unpacking\". Tuple unpacking allows you to assign the elements of a tuple to individual variables or to extract the elements of a tuple and use them in a specific context. "
   ]
  },
  {
   "cell_type": "code",
   "execution_count": 10,
   "id": "3b9fd965-43cd-4eb2-b4cb-6f7d5a967ac4",
   "metadata": {},
   "outputs": [],
   "source": [
    "t3=(1,2,3)"
   ]
  },
  {
   "cell_type": "code",
   "execution_count": 11,
   "id": "d25c0d47-a8fd-42cd-bcbf-be0f28573790",
   "metadata": {},
   "outputs": [],
   "source": [
    "a,b,c=t3\n",
    "# unpack the tuple into individual variables."
   ]
  },
  {
   "cell_type": "code",
   "execution_count": 12,
   "id": "53c417b6-0f22-485f-9249-17940c5dc747",
   "metadata": {},
   "outputs": [
    {
     "data": {
      "text/plain": [
       "1"
      ]
     },
     "execution_count": 12,
     "metadata": {},
     "output_type": "execute_result"
    }
   ],
   "source": [
    "a"
   ]
  },
  {
   "cell_type": "code",
   "execution_count": 13,
   "id": "4afd6726-52c9-46f4-a259-ac2effd2926b",
   "metadata": {},
   "outputs": [
    {
     "data": {
      "text/plain": [
       "2"
      ]
     },
     "execution_count": 13,
     "metadata": {},
     "output_type": "execute_result"
    }
   ],
   "source": [
    "b"
   ]
  },
  {
   "cell_type": "code",
   "execution_count": 14,
   "id": "d4cfcff7-e47a-40b8-b422-12c4312701ba",
   "metadata": {},
   "outputs": [
    {
     "data": {
      "text/plain": [
       "3"
      ]
     },
     "execution_count": 14,
     "metadata": {},
     "output_type": "execute_result"
    }
   ],
   "source": [
    "c"
   ]
  },
  {
   "cell_type": "markdown",
   "id": "25fcd874-19d7-48bd-aee4-d24aefe46f68",
   "metadata": {},
   "source": [
    "Note that the number of variables on the left-hand side must match the number of elements in the tuple on the right-hand side, otherwise it gives a ValueError."
   ]
  },
  {
   "cell_type": "code",
   "execution_count": null,
   "id": "76c7fa80-0860-499d-accc-7d87f277109a",
   "metadata": {},
   "outputs": [],
   "source": []
  }
 ],
 "metadata": {
  "kernelspec": {
   "display_name": "Python 3 (ipykernel)",
   "language": "python",
   "name": "python3"
  },
  "language_info": {
   "codemirror_mode": {
    "name": "ipython",
    "version": 3
   },
   "file_extension": ".py",
   "mimetype": "text/x-python",
   "name": "python",
   "nbconvert_exporter": "python",
   "pygments_lexer": "ipython3",
   "version": "3.10.8"
  }
 },
 "nbformat": 4,
 "nbformat_minor": 5
}
