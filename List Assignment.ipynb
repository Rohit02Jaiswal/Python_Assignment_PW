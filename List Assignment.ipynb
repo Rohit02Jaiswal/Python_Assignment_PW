{
 "cells": [
  {
   "cell_type": "markdown",
   "id": "6ccbcc56-f409-42ba-b2f8-aebe667c6b0d",
   "metadata": {},
   "source": [
    "List Assignment............"
   ]
  },
  {
   "cell_type": "markdown",
   "id": "61958a23-33b0-46a9-8699-c473f299f793",
   "metadata": {},
   "source": [
    "Q:1) Create an ampty list."
   ]
  },
  {
   "cell_type": "code",
   "execution_count": 6,
   "id": "a09ec2d6-37ea-4bfc-9169-95eb8b5f2673",
   "metadata": {},
   "outputs": [
    {
     "name": "stdout",
     "output_type": "stream",
     "text": [
      "[]\n"
     ]
    }
   ],
   "source": [
    "myList=[ ]\n",
    "print(myList)  # it will print nothing......."
   ]
  },
  {
   "cell_type": "markdown",
   "id": "e081e53a-e35d-476e-b6ae-f4544614d194",
   "metadata": {},
   "source": [
    "Q:2) Create an list and add an element to the end of the list."
   ]
  },
  {
   "cell_type": "code",
   "execution_count": 8,
   "id": "ba3a88cd-2fd9-4484-b18e-f18971503f1b",
   "metadata": {},
   "outputs": [
    {
     "name": "stdout",
     "output_type": "stream",
     "text": [
      "[3006, 'Rohit', 10.0]\n"
     ]
    }
   ],
   "source": [
    "# creating a list.............\n",
    "my_list=[3006, 'Rohit', 10.00]\n",
    "print(my_list)"
   ]
  },
  {
   "cell_type": "code",
   "execution_count": 13,
   "id": "2ccae688-4e97-4498-8486-9d65d311a566",
   "metadata": {},
   "outputs": [
    {
     "name": "stdout",
     "output_type": "stream",
     "text": [
      "[3006, 'Rohit', 10.0, 'Jaiswal', 'Jaiswal', 'Jaiswal', 'Jaiswal']\n"
     ]
    }
   ],
   "source": [
    "# adding an element...........\n",
    "my_list.append('Jaiswal')\n",
    "print(my_list)\n",
    "\n",
    "# append() function only add the elements at the end...if you want to add an element in between, use inserta() function."
   ]
  },
  {
   "cell_type": "markdown",
   "id": "9c6b9d55-8303-49d6-8055-65770ad112e1",
   "metadata": {},
   "source": [
    "Q:3) For the above created list print the last element."
   ]
  },
  {
   "cell_type": "code",
   "execution_count": 16,
   "id": "a86b34e6-eaf0-4e40-9eeb-f2d4f68726d7",
   "metadata": {},
   "outputs": [
    {
     "name": "stdout",
     "output_type": "stream",
     "text": [
      "Jaiswal\n"
     ]
    }
   ],
   "source": [
    "last_element=my_list[-1]\n",
    "print(last_element)"
   ]
  },
  {
   "cell_type": "markdown",
   "id": "122517af-29b0-4828-9cae-3ef21f02da86",
   "metadata": {},
   "source": [
    "Q:4) Reverse the above created list."
   ]
  },
  {
   "cell_type": "code",
   "execution_count": 17,
   "id": "75141724-51c8-4e41-87e7-8ebe513485e9",
   "metadata": {},
   "outputs": [
    {
     "name": "stdout",
     "output_type": "stream",
     "text": [
      "['Jaiswal', 'Jaiswal', 'Jaiswal', 'Jaiswal', 10.0, 'Rohit', 3006]\n"
     ]
    }
   ],
   "source": [
    "reverse=my_list[::-1]\n",
    "print(reverse)"
   ]
  },
  {
   "cell_type": "markdown",
   "id": "37f83e73-6c7a-4588-b417-dd8b99de59ba",
   "metadata": {},
   "source": [
    "Q:5) Sort the above created list."
   ]
  },
  {
   "cell_type": "code",
   "execution_count": 18,
   "id": "79913c41-24b9-4d3b-a362-c2a22222fb8c",
   "metadata": {},
   "outputs": [
    {
     "name": "stdout",
     "output_type": "stream",
     "text": [
      "[0, 1, 2, 4, 7]\n"
     ]
    }
   ],
   "source": [
    "# To sort the list we can use sort() function\n",
    "new_list=[1,7,4,2,0]\n",
    "new_list.sort()\n",
    "print(new_list)\n",
    "# it will sort in asscending order.."
   ]
  },
  {
   "cell_type": "code",
   "execution_count": 20,
   "id": "c83ddedf-1cc5-430d-8e12-7bffc5c0d384",
   "metadata": {},
   "outputs": [
    {
     "name": "stdout",
     "output_type": "stream",
     "text": [
      "[7, 4, 2, 1, 0]\n"
     ]
    }
   ],
   "source": [
    "#To sort a list in descending order we use sort(reverse=True) function\n",
    "new_list.sort(reverse=True)\n",
    "print(new_list)"
   ]
  },
  {
   "cell_type": "markdown",
   "id": "c0d3c9de-3902-4c82-8a01-6772874d15bc",
   "metadata": {},
   "source": [
    "Q:6) Create a list of your top three favorite movies, then print the second movie title."
   ]
  },
  {
   "cell_type": "code",
   "execution_count": 21,
   "id": "1ad09a63-d9fb-4374-bebd-ef2d688a33e3",
   "metadata": {},
   "outputs": [
    {
     "name": "stdout",
     "output_type": "stream",
     "text": [
      "['pathan', 'SitaRamam', 'Kuch Kuch Hota hai']\n"
     ]
    }
   ],
   "source": [
    "movie=['pathan', 'SitaRamam', 'Kuch Kuch Hota hai']\n",
    "print(movie)"
   ]
  },
  {
   "cell_type": "code",
   "execution_count": 23,
   "id": "68e25344-3bad-460e-b570-5e7f95f6b7c5",
   "metadata": {},
   "outputs": [
    {
     "name": "stdout",
     "output_type": "stream",
     "text": [
      "SitaRamam\n"
     ]
    }
   ],
   "source": [
    "second_movie=movie[1]\n",
    "print(second_movie)    # Second movie title will be printed."
   ]
  },
  {
   "cell_type": "markdown",
   "id": "9df937ee-f54a-4a60-a3d5-da696e8d8315",
   "metadata": {},
   "source": [
    "Q:7) Create a list of your favorite animals, then add a new animals in your llist and print the uodated list."
   ]
  },
  {
   "cell_type": "code",
   "execution_count": 24,
   "id": "c7cb355c-a960-4b85-81ad-5a76167cfa3c",
   "metadata": {},
   "outputs": [
    {
     "name": "stdout",
     "output_type": "stream",
     "text": [
      "['Rabbit', 'ziraf', 'Cat', 'Rat', 'Elephant']\n"
     ]
    }
   ],
   "source": [
    "animals=['Rabbit', 'Cat', 'Rat', 'Elephant']\n",
    "animals.insert(1, 'ziraf')\n",
    "print(animals)"
   ]
  },
  {
   "cell_type": "markdown",
   "id": "abb97090-f9c2-41d2-b02f-216ad907afdd",
   "metadata": {},
   "source": [
    "Q:8) Create a list of your favorite cities , then use the index method to find the position of a specific city on the list and print it."
   ]
  },
  {
   "cell_type": "code",
   "execution_count": 28,
   "id": "ac985034-18d0-4ef3-a223-91747dd54f26",
   "metadata": {},
   "outputs": [
    {
     "name": "stdout",
     "output_type": "stream",
     "text": [
      "['Motihari', 'Patna ', 'Kolkata', 'Delhi']\n"
     ]
    }
   ],
   "source": [
    "city=['Motihari', 'Patna ', 'Kolkata', 'Delhi']\n",
    "print(city)"
   ]
  },
  {
   "cell_type": "code",
   "execution_count": 31,
   "id": "61600610-6556-4011-86a8-e4fc3476e1ec",
   "metadata": {},
   "outputs": [
    {
     "name": "stdout",
     "output_type": "stream",
     "text": [
      "2\n"
     ]
    }
   ],
   "source": [
    "special_city='Kolkata'\n",
    "position=city.index(special_city)\n",
    "print(position)"
   ]
  },
  {
   "cell_type": "code",
   "execution_count": null,
   "id": "5ef91202-ef0d-46a1-846c-34131565be53",
   "metadata": {},
   "outputs": [],
   "source": []
  }
 ],
 "metadata": {
  "kernelspec": {
   "display_name": "Python 3 (ipykernel)",
   "language": "python",
   "name": "python3"
  },
  "language_info": {
   "codemirror_mode": {
    "name": "ipython",
    "version": 3
   },
   "file_extension": ".py",
   "mimetype": "text/x-python",
   "name": "python",
   "nbconvert_exporter": "python",
   "pygments_lexer": "ipython3",
   "version": "3.10.8"
  }
 },
 "nbformat": 4,
 "nbformat_minor": 5
}
