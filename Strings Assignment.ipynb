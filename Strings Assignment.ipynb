{
 "cells": [
  {
   "cell_type": "markdown",
   "id": "3b599597-5b3c-45f1-b710-478727aa407f",
   "metadata": {},
   "source": [
    "Strings Assignment.............."
   ]
  },
  {
   "cell_type": "markdown",
   "id": "2df9d29f-901d-4108-b28f-d86198931cf2",
   "metadata": {},
   "source": [
    "Q:1) How can we store a single quote (') as a string in a variable?\n",
    "\n",
    "Ans:) We can put a backslash character followed by a quote (\\\" or \\'). his is called an escape sequence and python will remove the backslash and put just the quote in the string."
   ]
  },
  {
   "cell_type": "code",
   "execution_count": 1,
   "id": "bf0377ca-72ab-4694-a7eb-ed3a07d40f5b",
   "metadata": {},
   "outputs": [
    {
     "name": "stdout",
     "output_type": "stream",
     "text": [
      "Rohit's habbit is very good\n"
     ]
    }
   ],
   "source": [
    "# For example...........\n",
    "st='Rohit\\'s habbit is very good'\n",
    "print(st)"
   ]
  },
  {
   "cell_type": "markdown",
   "id": "3c5fe564-64a8-4058-ae3f-1f6ee7634d46",
   "metadata": {},
   "source": [
    "Q:2) Refer the below variable x='a'. Here, is x a character type or string type variable?\n",
    "\n",
    "Ans:) The given variable x is string type. See the below example."
   ]
  },
  {
   "cell_type": "code",
   "execution_count": 2,
   "id": "a27fd469-a41a-4881-88f2-2ae9eae92671",
   "metadata": {},
   "outputs": [
    {
     "name": "stdout",
     "output_type": "stream",
     "text": [
      "a\n"
     ]
    }
   ],
   "source": [
    "# for example........\n",
    "x='a'\n",
    "print(x)"
   ]
  },
  {
   "cell_type": "code",
   "execution_count": 3,
   "id": "fd0a92a7-36b0-4aaf-9b3f-79a1fb90ce3e",
   "metadata": {},
   "outputs": [
    {
     "data": {
      "text/plain": [
       "str"
      ]
     },
     "execution_count": 3,
     "metadata": {},
     "output_type": "execute_result"
    }
   ],
   "source": [
    "type(x)\n"
   ]
  },
  {
   "cell_type": "markdown",
   "id": "7fbb7cdc-6911-4724-a918-d8906f7d9046",
   "metadata": {},
   "source": [
    "Q:3) Apply the following functions on this variable 'Welcome to python foundation course'\n",
    "     1. find() 2. count() 3. len()   4. concatenation"
   ]
  },
  {
   "cell_type": "code",
   "execution_count": 5,
   "id": "58e0da07-63d1-461e-94e6-4ab4e462dab4",
   "metadata": {},
   "outputs": [
    {
     "name": "stdout",
     "output_type": "stream",
     "text": [
      "Welcome to python foundation course\n"
     ]
    }
   ],
   "source": [
    "s='Welcome to python foundation course'\n",
    "print(s)"
   ]
  },
  {
   "cell_type": "code",
   "execution_count": 11,
   "id": "283f5b5a-20e3-4865-a182-6d8533883deb",
   "metadata": {},
   "outputs": [
    {
     "data": {
      "text/plain": [
       "29"
      ]
     },
     "execution_count": 11,
     "metadata": {},
     "output_type": "execute_result"
    }
   ],
   "source": [
    "# 1. find()\n",
    "s.find('course')    # it will return the first occurence of the index"
   ]
  },
  {
   "cell_type": "code",
   "execution_count": 16,
   "id": "de12dca8-88be-4747-901b-a234a8f6c686",
   "metadata": {},
   "outputs": [
    {
     "data": {
      "text/plain": [
       "3"
      ]
     },
     "execution_count": 16,
     "metadata": {},
     "output_type": "execute_result"
    }
   ],
   "source": [
    "# 2. count()\n",
    "s.count('t')  # it will count how many times t will be occured in string"
   ]
  },
  {
   "cell_type": "code",
   "execution_count": 17,
   "id": "0f662bac-3ceb-4a9d-986c-cea2f0d3194d",
   "metadata": {},
   "outputs": [
    {
     "data": {
      "text/plain": [
       "35"
      ]
     },
     "execution_count": 17,
     "metadata": {},
     "output_type": "execute_result"
    }
   ],
   "source": [
    "# 3. len()\n",
    "len(s)   # it will find the length of string"
   ]
  },
  {
   "cell_type": "code",
   "execution_count": 19,
   "id": "74975cc9-04a2-4d88-b77c-3d9feed1b2d4",
   "metadata": {},
   "outputs": [
    {
     "name": "stdout",
     "output_type": "stream",
     "text": [
      "Welcome to python foundation course enrolled by Rohit Jaiswal\n"
     ]
    }
   ],
   "source": [
    "# 4. Concatenation \n",
    "print(s + \" \" + 'enrolled by Rohit Jaiswal')"
   ]
  },
  {
   "cell_type": "markdown",
   "id": "fc25caaf-98f2-49ef-bea9-ae8fc58e34d5",
   "metadata": {},
   "source": [
    "Q:4) For the var1able: word = ‘PanaJi@12256'\n",
    "Calculate the follow1ng:\n",
    "(a) Total number of alphabets in lowercase\n",
    "(b) Total number of alphabets in uppercase\n",
    "(c) Total number of numerical in string\n",
    "\n"
   ]
  },
  {
   "cell_type": "code",
   "execution_count": 20,
   "id": "2f801048-45b2-4ad8-8eea-5b5c2eaf7fc4",
   "metadata": {},
   "outputs": [
    {
     "name": "stdout",
     "output_type": "stream",
     "text": [
      "PanaJi@12256\n"
     ]
    }
   ],
   "source": [
    "word='PanaJi@12256'\n",
    "print(word)"
   ]
  },
  {
   "cell_type": "code",
   "execution_count": 26,
   "id": "22894a09-6b69-4e27-ad53-8a3c587ab126",
   "metadata": {},
   "outputs": [
    {
     "name": "stdout",
     "output_type": "stream",
     "text": [
      "Total number of alphabets in lowercase is: 4\n"
     ]
    }
   ],
   "source": [
    "# a) Total number of alphabets in lowercase....\n",
    "word='PanaJi@12256'\n",
    "count = 0\n",
    "for letter in word:\n",
    "    if letter.isalpha() and letter.islower() :\n",
    "        count+=1\n",
    "print('Total number of alphabets in lowercase is:', count)"
   ]
  },
  {
   "cell_type": "code",
   "execution_count": 27,
   "id": "5bfc96fa-2520-460f-9fd6-57035a6988c2",
   "metadata": {},
   "outputs": [
    {
     "name": "stdout",
     "output_type": "stream",
     "text": [
      "Total number of alphabets in uppercase is: 2\n"
     ]
    }
   ],
   "source": [
    "# b) Total number of alphabets in upprcase .........\n",
    "word='PanaJi@12256'\n",
    "count=0\n",
    "for letter in word :\n",
    "    if letter.isalpha() and letter.isupper() :\n",
    "        count+=1\n",
    "print('Total number of alphabets in uppercase is:', count)"
   ]
  },
  {
   "cell_type": "code",
   "execution_count": 28,
   "id": "2ef1cad8-a608-4597-b4e2-5cd007cd93aa",
   "metadata": {},
   "outputs": [
    {
     "name": "stdout",
     "output_type": "stream",
     "text": [
      "Total number of numeric digit in the string is :  5\n"
     ]
    }
   ],
   "source": [
    "# c) Total number of numerical in string.............\n",
    "word='PanaJi@12256'\n",
    "count=0\n",
    "for letter in word:\n",
    "    if letter.isdigit() :\n",
    "        count+=1\n",
    "print('Total number of numeric digit in the string is : ', count)"
   ]
  },
  {
   "cell_type": "markdown",
   "id": "51e51e27-65cb-487a-bfd2-e29021bbaa2b",
   "metadata": {},
   "source": [
    "Q:5) Write a code to store a numerical value inside a variable then convert it into string."
   ]
  },
  {
   "cell_type": "code",
   "execution_count": 29,
   "id": "7f105caf-78b6-4054-a68d-4d7bed623330",
   "metadata": {},
   "outputs": [],
   "source": [
    "# storing the numerical value.......\n",
    "num=1234\n",
    "# converting the numerical value in string........\n",
    "string=str(num)\n"
   ]
  },
  {
   "cell_type": "code",
   "execution_count": 30,
   "id": "f73fda18-25d0-4318-8252-43adb69cce3a",
   "metadata": {},
   "outputs": [
    {
     "name": "stdout",
     "output_type": "stream",
     "text": [
      "1234\n"
     ]
    }
   ],
   "source": [
    "print(num)"
   ]
  },
  {
   "cell_type": "code",
   "execution_count": 31,
   "id": "ba0fe651-13a7-414a-8367-31e86cc76857",
   "metadata": {},
   "outputs": [
    {
     "name": "stdout",
     "output_type": "stream",
     "text": [
      "1234\n"
     ]
    }
   ],
   "source": [
    "print(string)"
   ]
  },
  {
   "cell_type": "code",
   "execution_count": 32,
   "id": "a925ba78-2318-440b-bdb6-8f10ff99bd8e",
   "metadata": {},
   "outputs": [
    {
     "data": {
      "text/plain": [
       "int"
      ]
     },
     "execution_count": 32,
     "metadata": {},
     "output_type": "execute_result"
    }
   ],
   "source": [
    "type(num)\n"
   ]
  },
  {
   "cell_type": "code",
   "execution_count": 34,
   "id": "02d5623c-a2b5-474c-b68c-329ebdb77515",
   "metadata": {},
   "outputs": [
    {
     "data": {
      "text/plain": [
       "str"
      ]
     },
     "execution_count": 34,
     "metadata": {},
     "output_type": "execute_result"
    }
   ],
   "source": [
    "type(string) # here our numerical value is converted into string.."
   ]
  },
  {
   "cell_type": "code",
   "execution_count": null,
   "id": "27f66214-8317-4cf1-8180-c9c9d75f82e0",
   "metadata": {},
   "outputs": [],
   "source": []
  }
 ],
 "metadata": {
  "kernelspec": {
   "display_name": "Python 3 (ipykernel)",
   "language": "python",
   "name": "python3"
  },
  "language_info": {
   "codemirror_mode": {
    "name": "ipython",
    "version": 3
   },
   "file_extension": ".py",
   "mimetype": "text/x-python",
   "name": "python",
   "nbconvert_exporter": "python",
   "pygments_lexer": "ipython3",
   "version": "3.10.8"
  }
 },
 "nbformat": 4,
 "nbformat_minor": 5
}
